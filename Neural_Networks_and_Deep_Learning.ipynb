{
  "nbformat": 4,
  "nbformat_minor": 0,
  "metadata": {
    "colab": {
      "name": "Neural Networks and Deep Learning.ipynb",
      "provenance": [],
      "authorship_tag": "ABX9TyNRVPqVaWq+ka9C1/qqeoue",
      "include_colab_link": true
    },
    "kernelspec": {
      "name": "python3",
      "display_name": "Python 3"
    },
    "language_info": {
      "name": "python"
    }
  },
  "cells": [
    {
      "cell_type": "markdown",
      "metadata": {
        "id": "view-in-github",
        "colab_type": "text"
      },
      "source": [
        "<a href=\"https://colab.research.google.com/github/ywang1110/Deep-Learning/blob/main/Neural_Networks_and_Deep_Learning.ipynb\" target=\"_parent\"><img src=\"https://colab.research.google.com/assets/colab-badge.svg\" alt=\"Open In Colab\"/></a>"
      ]
    },
    {
      "cell_type": "markdown",
      "metadata": {
        "id": "4o56KcfB-Yk1"
      },
      "source": [
        "**Course source:**\n",
        "https://www.coursera.org/learn/neural-networks-deep-learning/home/welcome <br>\n",
        "**Lecturer:** Andrew Ng"
      ]
    },
    {
      "cell_type": "markdown",
      "metadata": {
        "id": "TpOGvweD-Ae5"
      },
      "source": [
        "Broadcasting in Python\n",
        "----"
      ]
    },
    {
      "cell_type": "code",
      "metadata": {
        "id": "0sccPGzL9QKb",
        "colab": {
          "base_uri": "https://localhost:8080/"
        },
        "outputId": "ce6001c4-c88d-4332-d419-bfb571eed61d"
      },
      "source": [
        "import numpy as np\n",
        "A=np.random.randint(10, size=(3,4))\n",
        "print(A)"
      ],
      "execution_count": null,
      "outputs": [
        {
          "output_type": "stream",
          "text": [
            "[[4 7 9 9]\n",
            " [7 8 5 9]\n",
            " [8 6 2 7]]\n"
          ],
          "name": "stdout"
        }
      ]
    },
    {
      "cell_type": "code",
      "metadata": {
        "colab": {
          "base_uri": "https://localhost:8080/"
        },
        "id": "YV6eNv32-N8e",
        "outputId": "2ced5cf8-4848-4490-a542-6ca8bf7cbf87"
      },
      "source": [
        "cal=A.sum(axis=0) \n",
        "cal.shape"
      ],
      "execution_count": null,
      "outputs": [
        {
          "output_type": "execute_result",
          "data": {
            "text/plain": [
              "(4,)"
            ]
          },
          "metadata": {
            "tags": []
          },
          "execution_count": 3
        }
      ]
    },
    {
      "cell_type": "code",
      "metadata": {
        "colab": {
          "base_uri": "https://localhost:8080/"
        },
        "id": "MtLFbqY_-8s-",
        "outputId": "1cad9e18-45ff-43b6-e90d-8c35dbf1d43a"
      },
      "source": [
        "# (3,4)/(1,4)matrix Python would copy (1,4)matirx 3 times and it turns into (3,4)matix\n",
        "percentage=A/cal.reshape(1,4)*100   \n",
        "percentage"
      ],
      "execution_count": 7,
      "outputs": [
        {
          "output_type": "execute_result",
          "data": {
            "text/plain": [
              "array([[21.05263158, 33.33333333, 56.25      , 36.        ],\n",
              "       [36.84210526, 38.0952381 , 31.25      , 36.        ],\n",
              "       [42.10526316, 28.57142857, 12.5       , 28.        ]])"
            ]
          },
          "metadata": {
            "tags": []
          },
          "execution_count": 7
        }
      ]
    },
    {
      "cell_type": "code",
      "metadata": {
        "id": "V_xt58o3_KDj"
      },
      "source": [
        ""
      ],
      "execution_count": null,
      "outputs": []
    }
  ]
}